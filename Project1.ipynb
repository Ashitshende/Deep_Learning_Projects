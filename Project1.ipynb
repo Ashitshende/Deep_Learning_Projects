{
 "cells": [
  {
   "cell_type": "markdown",
   "id": "4a4c5f73",
   "metadata": {},
   "source": [
    "# Weather Tweet TextClassification : Predicting Confidence Scores with Artificial Neural Network"
   ]
  },
  {
   "cell_type": "markdown",
   "id": "c6da7fbe",
   "metadata": {},
   "source": [
    "# Aim of Project\n",
    "\n",
    "The aim of this project is to develop a machine learning model that can predict the confidence score for each of the 24 labels \n",
    "(related to sentiment, when, and kind) in a weather_tweets, given the text of the tweet and its location. The model will be trained on a labeled dataset of tweets, where each tweet is labeled with its corresponding confidence score for each label. The performance \n",
    "of the model will be evaluated using various classification metrics, and the insights gained from the analysis of the dataset \n",
    "will be used to improve the model's accuracy and performance.\n",
    "\n",
    "\n"
   ]
  },
  {
   "cell_type": "markdown",
   "id": "b8d344fa",
   "metadata": {},
   "source": [
    "# Dataset Description\n",
    "\n",
    "The training set contains tweets, locations, and a confidence score for each of 24 possible labels.  The 24 labels come from \n",
    "three categories: sentiment, when, and kind. Human raters can choose only one label from the \"sentiment\" and \"when\" categories, \n",
    "but are allowed multiple choices for the \"kind\". \n",
    "\n",
    "s1,\"I can't tell\"\n",
    "s2,\"Negative\"\n",
    "s3,\"Neutral / author is just sharing information\"\n",
    "s4,\"Positive\"\n",
    "s5,\"Tweet not related to weather condition\"\n",
    "\n",
    "w1,\"current (same day) weather\"\n",
    "w2,\"future (forecast)\"\n",
    "w3,\"I can't tell\"\n",
    "w4,\"past weather\"\n",
    "\n",
    "k1,\"clouds\"\n",
    "k2,\"cold\"\n",
    "k3,\"dry\"\n",
    "k4,\"hot\"\n",
    "k5,\"humid\"\n",
    "k6,\"hurricane\"\n",
    "k7,\"I can't tell\"\n",
    "k8,\"ice\"\n",
    "k9,\"other\"\n",
    "k10,\"rain\"\n",
    "k11,\"snow\"\n",
    "k12,\"storms\"\n",
    "k13,\"sun\"\n",
    "k14,\"tornado\"\n",
    "k15,\"wind\"\n",
    "\n",
    "For example, \n",
    "a tweet \"The hot and humid weather yesterday was awesome!\" could have s4=1, w4=1, k4=1, k5=1, with the rest marked as zero\n",
    "\n"
   ]
  },
  {
   "cell_type": "code",
   "execution_count": 1,
   "id": "619dd92b",
   "metadata": {},
   "outputs": [],
   "source": [
    "# Importing neccessary libraries \n",
    "import numpy as np\n",
    "import pandas as pd\n",
    "import matplotlib.pyplot as plt\n",
    "import seaborn as sns"
   ]
  },
  {
   "cell_type": "code",
   "execution_count": 2,
   "id": "10ef1345",
   "metadata": {},
   "outputs": [],
   "source": [
    "# Importing dataset\n",
    "\n",
    "df=pd.read_csv('E:\\\\Downloads\\\\weather_tweets\\\\train.csv')"
   ]
  },
  {
   "cell_type": "markdown",
   "id": "717f99b9",
   "metadata": {},
   "source": [
    "# EDA"
   ]
  },
  {
   "cell_type": "code",
   "execution_count": 3,
   "id": "e5f26f11",
   "metadata": {},
   "outputs": [
    {
     "name": "stdout",
     "output_type": "stream",
     "text": [
      "<class 'pandas.core.frame.DataFrame'>\n",
      "RangeIndex: 77946 entries, 0 to 77945\n",
      "Data columns (total 28 columns):\n",
      " #   Column    Non-Null Count  Dtype  \n",
      "---  ------    --------------  -----  \n",
      " 0   id        77946 non-null  int64  \n",
      " 1   tweet     77946 non-null  object \n",
      " 2   state     77946 non-null  object \n",
      " 3   location  66994 non-null  object \n",
      " 4   s1        77946 non-null  float64\n",
      " 5   s2        77946 non-null  float64\n",
      " 6   s3        77946 non-null  float64\n",
      " 7   s4        77946 non-null  float64\n",
      " 8   s5        77946 non-null  float64\n",
      " 9   w1        77946 non-null  float64\n",
      " 10  w2        77946 non-null  float64\n",
      " 11  w3        77946 non-null  float64\n",
      " 12  w4        77946 non-null  float64\n",
      " 13  k1        77946 non-null  float64\n",
      " 14  k2        77946 non-null  float64\n",
      " 15  k3        77946 non-null  float64\n",
      " 16  k4        77946 non-null  float64\n",
      " 17  k5        77946 non-null  float64\n",
      " 18  k6        77946 non-null  float64\n",
      " 19  k7        77946 non-null  float64\n",
      " 20  k8        77946 non-null  float64\n",
      " 21  k9        77946 non-null  float64\n",
      " 22  k10       77946 non-null  float64\n",
      " 23  k11       77946 non-null  float64\n",
      " 24  k12       77946 non-null  float64\n",
      " 25  k13       77946 non-null  float64\n",
      " 26  k14       77946 non-null  float64\n",
      " 27  k15       77946 non-null  float64\n",
      "dtypes: float64(24), int64(1), object(3)\n",
      "memory usage: 16.7+ MB\n"
     ]
    }
   ],
   "source": [
    "df.info()"
   ]
  },
  {
   "cell_type": "code",
   "execution_count": 4,
   "id": "dcbc52e9",
   "metadata": {},
   "outputs": [
    {
     "data": {
      "text/plain": [
       "Index(['id', 'tweet', 'state', 'location', 's1', 's2', 's3', 's4', 's5', 'w1',\n",
       "       'w2', 'w3', 'w4', 'k1', 'k2', 'k3', 'k4', 'k5', 'k6', 'k7', 'k8', 'k9',\n",
       "       'k10', 'k11', 'k12', 'k13', 'k14', 'k15'],\n",
       "      dtype='object')"
      ]
     },
     "execution_count": 4,
     "metadata": {},
     "output_type": "execute_result"
    }
   ],
   "source": [
    "# columns in dataset\n",
    "df.columns"
   ]
  },
  {
   "cell_type": "code",
   "execution_count": 5,
   "id": "116b2029",
   "metadata": {},
   "outputs": [
    {
     "data": {
      "text/html": [
       "<div>\n",
       "<style scoped>\n",
       "    .dataframe tbody tr th:only-of-type {\n",
       "        vertical-align: middle;\n",
       "    }\n",
       "\n",
       "    .dataframe tbody tr th {\n",
       "        vertical-align: top;\n",
       "    }\n",
       "\n",
       "    .dataframe thead th {\n",
       "        text-align: right;\n",
       "    }\n",
       "</style>\n",
       "<table border=\"1\" class=\"dataframe\">\n",
       "  <thead>\n",
       "    <tr style=\"text-align: right;\">\n",
       "      <th></th>\n",
       "      <th>id</th>\n",
       "      <th>tweet</th>\n",
       "      <th>state</th>\n",
       "      <th>location</th>\n",
       "      <th>s1</th>\n",
       "      <th>s2</th>\n",
       "      <th>s3</th>\n",
       "      <th>s4</th>\n",
       "      <th>s5</th>\n",
       "      <th>w1</th>\n",
       "      <th>...</th>\n",
       "      <th>k6</th>\n",
       "      <th>k7</th>\n",
       "      <th>k8</th>\n",
       "      <th>k9</th>\n",
       "      <th>k10</th>\n",
       "      <th>k11</th>\n",
       "      <th>k12</th>\n",
       "      <th>k13</th>\n",
       "      <th>k14</th>\n",
       "      <th>k15</th>\n",
       "    </tr>\n",
       "  </thead>\n",
       "  <tbody>\n",
       "    <tr>\n",
       "      <th>0</th>\n",
       "      <td>1</td>\n",
       "      <td>Jazz for a Rainy Afternoon:  {link}</td>\n",
       "      <td>oklahoma</td>\n",
       "      <td>Oklahoma</td>\n",
       "      <td>0.0</td>\n",
       "      <td>0.000</td>\n",
       "      <td>1.000</td>\n",
       "      <td>0.000</td>\n",
       "      <td>0.000</td>\n",
       "      <td>0.800</td>\n",
       "      <td>...</td>\n",
       "      <td>0.0</td>\n",
       "      <td>0.000</td>\n",
       "      <td>0.0</td>\n",
       "      <td>0.000</td>\n",
       "      <td>1.000</td>\n",
       "      <td>0.0</td>\n",
       "      <td>0.0</td>\n",
       "      <td>0.000</td>\n",
       "      <td>0.0</td>\n",
       "      <td>0.0</td>\n",
       "    </tr>\n",
       "    <tr>\n",
       "      <th>1</th>\n",
       "      <td>2</td>\n",
       "      <td>RT: @mention: I love rainy days.</td>\n",
       "      <td>florida</td>\n",
       "      <td>Miami-Ft. Lauderdale</td>\n",
       "      <td>0.0</td>\n",
       "      <td>0.000</td>\n",
       "      <td>0.000</td>\n",
       "      <td>1.000</td>\n",
       "      <td>0.000</td>\n",
       "      <td>0.196</td>\n",
       "      <td>...</td>\n",
       "      <td>0.0</td>\n",
       "      <td>0.000</td>\n",
       "      <td>0.0</td>\n",
       "      <td>0.000</td>\n",
       "      <td>1.000</td>\n",
       "      <td>0.0</td>\n",
       "      <td>0.0</td>\n",
       "      <td>0.000</td>\n",
       "      <td>0.0</td>\n",
       "      <td>0.0</td>\n",
       "    </tr>\n",
       "    <tr>\n",
       "      <th>2</th>\n",
       "      <td>3</td>\n",
       "      <td>Good Morning Chicago! Time to kick the Windy C...</td>\n",
       "      <td>idaho</td>\n",
       "      <td>NaN</td>\n",
       "      <td>0.0</td>\n",
       "      <td>0.000</td>\n",
       "      <td>0.000</td>\n",
       "      <td>0.000</td>\n",
       "      <td>1.000</td>\n",
       "      <td>0.000</td>\n",
       "      <td>...</td>\n",
       "      <td>0.0</td>\n",
       "      <td>1.000</td>\n",
       "      <td>0.0</td>\n",
       "      <td>0.000</td>\n",
       "      <td>0.000</td>\n",
       "      <td>0.0</td>\n",
       "      <td>0.0</td>\n",
       "      <td>0.000</td>\n",
       "      <td>0.0</td>\n",
       "      <td>0.0</td>\n",
       "    </tr>\n",
       "    <tr>\n",
       "      <th>3</th>\n",
       "      <td>6</td>\n",
       "      <td>Preach lol! :) RT @mention: #alliwantis this t...</td>\n",
       "      <td>minnesota</td>\n",
       "      <td>Minneapolis-St. Paul</td>\n",
       "      <td>0.0</td>\n",
       "      <td>0.000</td>\n",
       "      <td>0.000</td>\n",
       "      <td>1.000</td>\n",
       "      <td>0.000</td>\n",
       "      <td>1.000</td>\n",
       "      <td>...</td>\n",
       "      <td>0.0</td>\n",
       "      <td>0.604</td>\n",
       "      <td>0.0</td>\n",
       "      <td>0.196</td>\n",
       "      <td>0.000</td>\n",
       "      <td>0.0</td>\n",
       "      <td>0.0</td>\n",
       "      <td>0.201</td>\n",
       "      <td>0.0</td>\n",
       "      <td>0.0</td>\n",
       "    </tr>\n",
       "    <tr>\n",
       "      <th>4</th>\n",
       "      <td>9</td>\n",
       "      <td>@mention good morning sunshine</td>\n",
       "      <td>rhode island</td>\n",
       "      <td>Purgatory</td>\n",
       "      <td>0.0</td>\n",
       "      <td>0.000</td>\n",
       "      <td>0.000</td>\n",
       "      <td>0.403</td>\n",
       "      <td>0.597</td>\n",
       "      <td>1.000</td>\n",
       "      <td>...</td>\n",
       "      <td>0.0</td>\n",
       "      <td>0.000</td>\n",
       "      <td>0.0</td>\n",
       "      <td>0.000</td>\n",
       "      <td>0.000</td>\n",
       "      <td>0.0</td>\n",
       "      <td>0.0</td>\n",
       "      <td>1.000</td>\n",
       "      <td>0.0</td>\n",
       "      <td>0.0</td>\n",
       "    </tr>\n",
       "    <tr>\n",
       "      <th>...</th>\n",
       "      <td>...</td>\n",
       "      <td>...</td>\n",
       "      <td>...</td>\n",
       "      <td>...</td>\n",
       "      <td>...</td>\n",
       "      <td>...</td>\n",
       "      <td>...</td>\n",
       "      <td>...</td>\n",
       "      <td>...</td>\n",
       "      <td>...</td>\n",
       "      <td>...</td>\n",
       "      <td>...</td>\n",
       "      <td>...</td>\n",
       "      <td>...</td>\n",
       "      <td>...</td>\n",
       "      <td>...</td>\n",
       "      <td>...</td>\n",
       "      <td>...</td>\n",
       "      <td>...</td>\n",
       "      <td>...</td>\n",
       "      <td>...</td>\n",
       "    </tr>\n",
       "    <tr>\n",
       "      <th>77941</th>\n",
       "      <td>120095</td>\n",
       "      <td>Current Conditions: Fair, 78 FForecast: Sat - ...</td>\n",
       "      <td>florida</td>\n",
       "      <td>Jacksonville, Florida</td>\n",
       "      <td>0.0</td>\n",
       "      <td>0.000</td>\n",
       "      <td>1.000</td>\n",
       "      <td>0.000</td>\n",
       "      <td>0.000</td>\n",
       "      <td>0.206</td>\n",
       "      <td>...</td>\n",
       "      <td>0.0</td>\n",
       "      <td>0.000</td>\n",
       "      <td>0.0</td>\n",
       "      <td>0.000</td>\n",
       "      <td>0.000</td>\n",
       "      <td>0.0</td>\n",
       "      <td>0.0</td>\n",
       "      <td>0.794</td>\n",
       "      <td>0.0</td>\n",
       "      <td>0.0</td>\n",
       "    </tr>\n",
       "    <tr>\n",
       "      <th>77942</th>\n",
       "      <td>120097</td>\n",
       "      <td>WE DOIN SOMETHING DIFFERENT... SINCE THE WEATH...</td>\n",
       "      <td>colorado</td>\n",
       "      <td>Denver,Colorado</td>\n",
       "      <td>0.0</td>\n",
       "      <td>0.000</td>\n",
       "      <td>0.000</td>\n",
       "      <td>1.000</td>\n",
       "      <td>0.000</td>\n",
       "      <td>1.000</td>\n",
       "      <td>...</td>\n",
       "      <td>0.0</td>\n",
       "      <td>1.000</td>\n",
       "      <td>0.0</td>\n",
       "      <td>0.000</td>\n",
       "      <td>0.000</td>\n",
       "      <td>0.0</td>\n",
       "      <td>0.0</td>\n",
       "      <td>0.000</td>\n",
       "      <td>0.0</td>\n",
       "      <td>0.0</td>\n",
       "    </tr>\n",
       "    <tr>\n",
       "      <th>77943</th>\n",
       "      <td>120098</td>\n",
       "      <td>OMG #WeatherForecast for tomm 80 degrees &amp; Sun...</td>\n",
       "      <td>pennsylvania</td>\n",
       "      <td>Philadelphia, United States</td>\n",
       "      <td>0.0</td>\n",
       "      <td>0.000</td>\n",
       "      <td>0.000</td>\n",
       "      <td>1.000</td>\n",
       "      <td>0.000</td>\n",
       "      <td>0.000</td>\n",
       "      <td>...</td>\n",
       "      <td>0.0</td>\n",
       "      <td>0.000</td>\n",
       "      <td>0.0</td>\n",
       "      <td>0.000</td>\n",
       "      <td>0.000</td>\n",
       "      <td>0.0</td>\n",
       "      <td>0.0</td>\n",
       "      <td>1.000</td>\n",
       "      <td>0.0</td>\n",
       "      <td>0.0</td>\n",
       "    </tr>\n",
       "    <tr>\n",
       "      <th>77944</th>\n",
       "      <td>120100</td>\n",
       "      <td>@mention Oh no! We had cold weather early in t...</td>\n",
       "      <td>alabama</td>\n",
       "      <td>Birmingham (Ann and Tusc)</td>\n",
       "      <td>0.0</td>\n",
       "      <td>0.385</td>\n",
       "      <td>0.410</td>\n",
       "      <td>0.205</td>\n",
       "      <td>0.000</td>\n",
       "      <td>0.416</td>\n",
       "      <td>...</td>\n",
       "      <td>0.0</td>\n",
       "      <td>0.000</td>\n",
       "      <td>0.0</td>\n",
       "      <td>0.211</td>\n",
       "      <td>0.591</td>\n",
       "      <td>0.0</td>\n",
       "      <td>0.0</td>\n",
       "      <td>0.000</td>\n",
       "      <td>0.0</td>\n",
       "      <td>0.0</td>\n",
       "    </tr>\n",
       "    <tr>\n",
       "      <th>77945</th>\n",
       "      <td>120103</td>\n",
       "      <td>North Cascades Hwy to reopen Wed.: quite late ...</td>\n",
       "      <td>washington</td>\n",
       "      <td>Seattle</td>\n",
       "      <td>0.0</td>\n",
       "      <td>0.202</td>\n",
       "      <td>0.395</td>\n",
       "      <td>0.000</td>\n",
       "      <td>0.403</td>\n",
       "      <td>0.000</td>\n",
       "      <td>...</td>\n",
       "      <td>0.0</td>\n",
       "      <td>0.000</td>\n",
       "      <td>0.0</td>\n",
       "      <td>0.000</td>\n",
       "      <td>0.000</td>\n",
       "      <td>1.0</td>\n",
       "      <td>0.0</td>\n",
       "      <td>0.000</td>\n",
       "      <td>0.0</td>\n",
       "      <td>0.0</td>\n",
       "    </tr>\n",
       "  </tbody>\n",
       "</table>\n",
       "<p>77946 rows × 28 columns</p>\n",
       "</div>"
      ],
      "text/plain": [
       "           id                                              tweet  \\\n",
       "0           1                Jazz for a Rainy Afternoon:  {link}   \n",
       "1           2                   RT: @mention: I love rainy days.   \n",
       "2           3  Good Morning Chicago! Time to kick the Windy C...   \n",
       "3           6  Preach lol! :) RT @mention: #alliwantis this t...   \n",
       "4           9                     @mention good morning sunshine   \n",
       "...       ...                                                ...   \n",
       "77941  120095  Current Conditions: Fair, 78 FForecast: Sat - ...   \n",
       "77942  120097  WE DOIN SOMETHING DIFFERENT... SINCE THE WEATH...   \n",
       "77943  120098  OMG #WeatherForecast for tomm 80 degrees & Sun...   \n",
       "77944  120100  @mention Oh no! We had cold weather early in t...   \n",
       "77945  120103  North Cascades Hwy to reopen Wed.: quite late ...   \n",
       "\n",
       "              state                     location   s1     s2     s3     s4  \\\n",
       "0          oklahoma                     Oklahoma  0.0  0.000  1.000  0.000   \n",
       "1           florida         Miami-Ft. Lauderdale  0.0  0.000  0.000  1.000   \n",
       "2             idaho                          NaN  0.0  0.000  0.000  0.000   \n",
       "3         minnesota         Minneapolis-St. Paul  0.0  0.000  0.000  1.000   \n",
       "4      rhode island                    Purgatory  0.0  0.000  0.000  0.403   \n",
       "...             ...                          ...  ...    ...    ...    ...   \n",
       "77941       florida        Jacksonville, Florida  0.0  0.000  1.000  0.000   \n",
       "77942      colorado              Denver,Colorado  0.0  0.000  0.000  1.000   \n",
       "77943  pennsylvania  Philadelphia, United States  0.0  0.000  0.000  1.000   \n",
       "77944       alabama    Birmingham (Ann and Tusc)  0.0  0.385  0.410  0.205   \n",
       "77945    washington                      Seattle  0.0  0.202  0.395  0.000   \n",
       "\n",
       "          s5     w1  ...   k6     k7   k8     k9    k10  k11  k12    k13  k14  \\\n",
       "0      0.000  0.800  ...  0.0  0.000  0.0  0.000  1.000  0.0  0.0  0.000  0.0   \n",
       "1      0.000  0.196  ...  0.0  0.000  0.0  0.000  1.000  0.0  0.0  0.000  0.0   \n",
       "2      1.000  0.000  ...  0.0  1.000  0.0  0.000  0.000  0.0  0.0  0.000  0.0   \n",
       "3      0.000  1.000  ...  0.0  0.604  0.0  0.196  0.000  0.0  0.0  0.201  0.0   \n",
       "4      0.597  1.000  ...  0.0  0.000  0.0  0.000  0.000  0.0  0.0  1.000  0.0   \n",
       "...      ...    ...  ...  ...    ...  ...    ...    ...  ...  ...    ...  ...   \n",
       "77941  0.000  0.206  ...  0.0  0.000  0.0  0.000  0.000  0.0  0.0  0.794  0.0   \n",
       "77942  0.000  1.000  ...  0.0  1.000  0.0  0.000  0.000  0.0  0.0  0.000  0.0   \n",
       "77943  0.000  0.000  ...  0.0  0.000  0.0  0.000  0.000  0.0  0.0  1.000  0.0   \n",
       "77944  0.000  0.416  ...  0.0  0.000  0.0  0.211  0.591  0.0  0.0  0.000  0.0   \n",
       "77945  0.403  0.000  ...  0.0  0.000  0.0  0.000  0.000  1.0  0.0  0.000  0.0   \n",
       "\n",
       "       k15  \n",
       "0      0.0  \n",
       "1      0.0  \n",
       "2      0.0  \n",
       "3      0.0  \n",
       "4      0.0  \n",
       "...    ...  \n",
       "77941  0.0  \n",
       "77942  0.0  \n",
       "77943  0.0  \n",
       "77944  0.0  \n",
       "77945  0.0  \n",
       "\n",
       "[77946 rows x 28 columns]"
      ]
     },
     "execution_count": 5,
     "metadata": {},
     "output_type": "execute_result"
    }
   ],
   "source": [
    "df"
   ]
  },
  {
   "cell_type": "code",
   "execution_count": 8,
   "id": "38a94fa0",
   "metadata": {},
   "outputs": [],
   "source": [
    "# Identify the Labels\n",
    "sentiment_labels = df.columns[4:9]\n",
    "when_labels = df.columns[9:13]\n",
    "kind_labels = df.columns[13:]"
   ]
  },
  {
   "cell_type": "code",
   "execution_count": 9,
   "id": "45479b25",
   "metadata": {
    "scrolled": true
   },
   "outputs": [
    {
     "data": {
      "image/png": "[encoded data removed]",
      "text/plain": [
       "<Figure size 1000x500 with 3 Axes>"
      ]
     },
     "metadata": {},
     "output_type": "display_data"
    }
   ],
   "source": [
    "# Plot the Label Distribution\n",
    "plt.figure(figsize=(10, 5))\n",
    "plt.subplot(1, 3, 1)\n",
    "df[sentiment_labels].sum().plot(kind='bar')\n",
    "plt.title('Sentiment Labels')\n",
    "\n",
    "plt.subplot(1, 3, 2)\n",
    "df[when_labels].sum().plot(kind='bar')\n",
    "plt.title('When Labels')\n",
    "\n",
    "plt.subplot(1, 3, 3)\n",
    "df[kind_labels].sum().plot(kind='bar')\n",
    "plt.title('Kind Labels')\n",
    "\n",
    "plt.tight_layout()\n",
    "plt.show()"
   ]
  },
  {
   "cell_type": "markdown",
   "id": "b0d89832",
   "metadata": {},
   "source": [
    "from plot we can see The imbalanced distribution of confidence scores across different labels in the dataset.This is due to the fact that the quantity of data points available for each label varies.\n",
    "in sentiment labels sum of confidence score for s3('Neutral') is highest follwed by s2('Negative') and s4('Positive') and low for s5(\"Tweet not related to weather condition\") follwed by s1(\"I can't tell\").so dataset is imbalanced."
   ]
  },
  {
   "cell_type": "code",
   "execution_count": 10,
   "id": "69f5098a",
   "metadata": {},
   "outputs": [
    {
     "data": {
      "text/plain": [
       "state\n",
       "alabama                 1577\n",
       "alaska                   714\n",
       "arizona                 1575\n",
       "arkansas                 808\n",
       "california              3765\n",
       "colorado                1712\n",
       "connecticut             1548\n",
       "delaware                 749\n",
       "district of columbia     782\n",
       "florida                 3659\n",
       "georgia                 1519\n",
       "hawaii                   765\n",
       "idaho                    752\n",
       "illinois                1760\n",
       "indiana                 1671\n",
       "iowa                     880\n",
       "kansas                  1688\n",
       "kentucky                1612\n",
       "louisiana                837\n",
       "maine                    772\n",
       "maryland                1574\n",
       "massachusetts           1673\n",
       "michigan                2487\n",
       "minnesota               1691\n",
       "mississippi              773\n",
       "missouri                1599\n",
       "montana                  771\n",
       "nebraska                 887\n",
       "nevada                  1511\n",
       "new hampshire            769\n",
       "new jersey               857\n",
       "new mexico              1478\n",
       "new york                1647\n",
       "north carolina          3169\n",
       "north dakota             774\n",
       "ohio                    2471\n",
       "oklahoma                1590\n",
       "oregon                  1581\n",
       "pennsylvania            3285\n",
       "rhode island             816\n",
       "south carolina          1532\n",
       "south dakota             810\n",
       "tennessee               2416\n",
       "texas                   3843\n",
       "utah                    1478\n",
       "vermont                  827\n",
       "virginia                1593\n",
       "washington              1653\n",
       "west virginia            745\n",
       "wisconsin               1682\n",
       "wyoming                  819\n",
       "Name: state, dtype: int64"
      ]
     },
     "execution_count": 10,
     "metadata": {},
     "output_type": "execute_result"
    }
   ],
   "source": [
    "# count of different states in state \n",
    "df['state'].groupby(df['state']).count()"
   ]
  },
  {
   "cell_type": "code",
   "execution_count": 11,
   "id": "cdeae5cd",
   "metadata": {},
   "outputs": [
    {
     "data": {
      "text/plain": [
       "location\n",
       " 4, MS                            1\n",
       " 72401                            1\n",
       " Alabama                          1\n",
       " Annapolis,MD                     1\n",
       " Baltimore                        3\n",
       "                                 ..\n",
       "ÜT                                1\n",
       "ιnsιdε uя вlunτ& вαявιεs'я'us     1\n",
       "нσℓℓуωσσ∂ [Jacksonville, Fl)      1\n",
       "✿ Nєω Yσяк Cιту✿                  1\n",
       "집                                 1\n",
       "Name: location, Length: 12155, dtype: int64"
      ]
     },
     "execution_count": 11,
     "metadata": {},
     "output_type": "execute_result"
    }
   ],
   "source": [
    "# count of different location in location\n",
    "df['location'].groupby(df['location']).count()"
   ]
  },
  {
   "cell_type": "markdown",
   "id": "8b906eb7",
   "metadata": {},
   "source": [
    "lets drop columns['id','state','location']"
   ]
  },
  {
   "cell_type": "code",
   "execution_count": 12,
   "id": "4d15237d",
   "metadata": {},
   "outputs": [],
   "source": [
    "df.drop(columns=['id','state','location'],axis=1,inplace=True)"
   ]
  },
  {
   "cell_type": "code",
   "execution_count": 13,
   "id": "d7e65d20",
   "metadata": {},
   "outputs": [
    {
     "data": {
      "text/html": [
       "<div>\n",
       "<style scoped>\n",
       "    .dataframe tbody tr th:only-of-type {\n",
       "        vertical-align: middle;\n",
       "    }\n",
       "\n",
       "    .dataframe tbody tr th {\n",
       "        vertical-align: top;\n",
       "    }\n",
       "\n",
       "    .dataframe thead th {\n",
       "        text-align: right;\n",
       "    }\n",
       "</style>\n",
       "<table border=\"1\" class=\"dataframe\">\n",
       "  <thead>\n",
       "    <tr style=\"text-align: right;\">\n",
       "      <th></th>\n",
       "      <th>tweet</th>\n",
       "      <th>s1</th>\n",
       "      <th>s2</th>\n",
       "      <th>s3</th>\n",
       "      <th>s4</th>\n",
       "      <th>s5</th>\n",
       "      <th>w1</th>\n",
       "      <th>w2</th>\n",
       "      <th>w3</th>\n",
       "      <th>w4</th>\n",
       "      <th>...</th>\n",
       "      <th>k6</th>\n",
       "      <th>k7</th>\n",
       "      <th>k8</th>\n",
       "      <th>k9</th>\n",
       "      <th>k10</th>\n",
       "      <th>k11</th>\n",
       "      <th>k12</th>\n",
       "      <th>k13</th>\n",
       "      <th>k14</th>\n",
       "      <th>k15</th>\n",
       "    </tr>\n",
       "  </thead>\n",
       "  <tbody>\n",
       "    <tr>\n",
       "      <th>0</th>\n",
       "      <td>Jazz for a Rainy Afternoon:  {link}</td>\n",
       "      <td>0.0</td>\n",
       "      <td>0.000</td>\n",
       "      <td>1.000</td>\n",
       "      <td>0.000</td>\n",
       "      <td>0.000</td>\n",
       "      <td>0.800</td>\n",
       "      <td>0.000</td>\n",
       "      <td>0.200</td>\n",
       "      <td>0.000</td>\n",
       "      <td>...</td>\n",
       "      <td>0.0</td>\n",
       "      <td>0.000</td>\n",
       "      <td>0.0</td>\n",
       "      <td>0.000</td>\n",
       "      <td>1.000</td>\n",
       "      <td>0.0</td>\n",
       "      <td>0.0</td>\n",
       "      <td>0.000</td>\n",
       "      <td>0.0</td>\n",
       "      <td>0.0</td>\n",
       "    </tr>\n",
       "    <tr>\n",
       "      <th>1</th>\n",
       "      <td>RT: @mention: I love rainy days.</td>\n",
       "      <td>0.0</td>\n",
       "      <td>0.000</td>\n",
       "      <td>0.000</td>\n",
       "      <td>1.000</td>\n",
       "      <td>0.000</td>\n",
       "      <td>0.196</td>\n",
       "      <td>0.000</td>\n",
       "      <td>0.804</td>\n",
       "      <td>0.000</td>\n",
       "      <td>...</td>\n",
       "      <td>0.0</td>\n",
       "      <td>0.000</td>\n",
       "      <td>0.0</td>\n",
       "      <td>0.000</td>\n",
       "      <td>1.000</td>\n",
       "      <td>0.0</td>\n",
       "      <td>0.0</td>\n",
       "      <td>0.000</td>\n",
       "      <td>0.0</td>\n",
       "      <td>0.0</td>\n",
       "    </tr>\n",
       "    <tr>\n",
       "      <th>2</th>\n",
       "      <td>Good Morning Chicago! Time to kick the Windy C...</td>\n",
       "      <td>0.0</td>\n",
       "      <td>0.000</td>\n",
       "      <td>0.000</td>\n",
       "      <td>0.000</td>\n",
       "      <td>1.000</td>\n",
       "      <td>0.000</td>\n",
       "      <td>0.000</td>\n",
       "      <td>1.000</td>\n",
       "      <td>0.000</td>\n",
       "      <td>...</td>\n",
       "      <td>0.0</td>\n",
       "      <td>1.000</td>\n",
       "      <td>0.0</td>\n",
       "      <td>0.000</td>\n",
       "      <td>0.000</td>\n",
       "      <td>0.0</td>\n",
       "      <td>0.0</td>\n",
       "      <td>0.000</td>\n",
       "      <td>0.0</td>\n",
       "      <td>0.0</td>\n",
       "    </tr>\n",
       "    <tr>\n",
       "      <th>3</th>\n",
       "      <td>Preach lol! :) RT @mention: #alliwantis this t...</td>\n",
       "      <td>0.0</td>\n",
       "      <td>0.000</td>\n",
       "      <td>0.000</td>\n",
       "      <td>1.000</td>\n",
       "      <td>0.000</td>\n",
       "      <td>1.000</td>\n",
       "      <td>0.000</td>\n",
       "      <td>0.000</td>\n",
       "      <td>0.000</td>\n",
       "      <td>...</td>\n",
       "      <td>0.0</td>\n",
       "      <td>0.604</td>\n",
       "      <td>0.0</td>\n",
       "      <td>0.196</td>\n",
       "      <td>0.000</td>\n",
       "      <td>0.0</td>\n",
       "      <td>0.0</td>\n",
       "      <td>0.201</td>\n",
       "      <td>0.0</td>\n",
       "      <td>0.0</td>\n",
       "    </tr>\n",
       "    <tr>\n",
       "      <th>4</th>\n",
       "      <td>@mention good morning sunshine</td>\n",
       "      <td>0.0</td>\n",
       "      <td>0.000</td>\n",
       "      <td>0.000</td>\n",
       "      <td>0.403</td>\n",
       "      <td>0.597</td>\n",
       "      <td>1.000</td>\n",
       "      <td>0.000</td>\n",
       "      <td>0.000</td>\n",
       "      <td>0.000</td>\n",
       "      <td>...</td>\n",
       "      <td>0.0</td>\n",
       "      <td>0.000</td>\n",
       "      <td>0.0</td>\n",
       "      <td>0.000</td>\n",
       "      <td>0.000</td>\n",
       "      <td>0.0</td>\n",
       "      <td>0.0</td>\n",
       "      <td>1.000</td>\n",
       "      <td>0.0</td>\n",
       "      <td>0.0</td>\n",
       "    </tr>\n",
       "    <tr>\n",
       "      <th>...</th>\n",
       "      <td>...</td>\n",
       "      <td>...</td>\n",
       "      <td>...</td>\n",
       "      <td>...</td>\n",
       "      <td>...</td>\n",
       "      <td>...</td>\n",
       "      <td>...</td>\n",
       "      <td>...</td>\n",
       "      <td>...</td>\n",
       "      <td>...</td>\n",
       "      <td>...</td>\n",
       "      <td>...</td>\n",
       "      <td>...</td>\n",
       "      <td>...</td>\n",
       "      <td>...</td>\n",
       "      <td>...</td>\n",
       "      <td>...</td>\n",
       "      <td>...</td>\n",
       "      <td>...</td>\n",
       "      <td>...</td>\n",
       "      <td>...</td>\n",
       "    </tr>\n",
       "    <tr>\n",
       "      <th>77941</th>\n",
       "      <td>Current Conditions: Fair, 78 FForecast: Sat - ...</td>\n",
       "      <td>0.0</td>\n",
       "      <td>0.000</td>\n",
       "      <td>1.000</td>\n",
       "      <td>0.000</td>\n",
       "      <td>0.000</td>\n",
       "      <td>0.206</td>\n",
       "      <td>0.794</td>\n",
       "      <td>0.000</td>\n",
       "      <td>0.000</td>\n",
       "      <td>...</td>\n",
       "      <td>0.0</td>\n",
       "      <td>0.000</td>\n",
       "      <td>0.0</td>\n",
       "      <td>0.000</td>\n",
       "      <td>0.000</td>\n",
       "      <td>0.0</td>\n",
       "      <td>0.0</td>\n",
       "      <td>0.794</td>\n",
       "      <td>0.0</td>\n",
       "      <td>0.0</td>\n",
       "    </tr>\n",
       "    <tr>\n",
       "      <th>77942</th>\n",
       "      <td>WE DOIN SOMETHING DIFFERENT... SINCE THE WEATH...</td>\n",
       "      <td>0.0</td>\n",
       "      <td>0.000</td>\n",
       "      <td>0.000</td>\n",
       "      <td>1.000</td>\n",
       "      <td>0.000</td>\n",
       "      <td>1.000</td>\n",
       "      <td>0.000</td>\n",
       "      <td>0.000</td>\n",
       "      <td>0.000</td>\n",
       "      <td>...</td>\n",
       "      <td>0.0</td>\n",
       "      <td>1.000</td>\n",
       "      <td>0.0</td>\n",
       "      <td>0.000</td>\n",
       "      <td>0.000</td>\n",
       "      <td>0.0</td>\n",
       "      <td>0.0</td>\n",
       "      <td>0.000</td>\n",
       "      <td>0.0</td>\n",
       "      <td>0.0</td>\n",
       "    </tr>\n",
       "    <tr>\n",
       "      <th>77943</th>\n",
       "      <td>OMG #WeatherForecast for tomm 80 degrees &amp; Sun...</td>\n",
       "      <td>0.0</td>\n",
       "      <td>0.000</td>\n",
       "      <td>0.000</td>\n",
       "      <td>1.000</td>\n",
       "      <td>0.000</td>\n",
       "      <td>0.000</td>\n",
       "      <td>1.000</td>\n",
       "      <td>0.000</td>\n",
       "      <td>0.000</td>\n",
       "      <td>...</td>\n",
       "      <td>0.0</td>\n",
       "      <td>0.000</td>\n",
       "      <td>0.0</td>\n",
       "      <td>0.000</td>\n",
       "      <td>0.000</td>\n",
       "      <td>0.0</td>\n",
       "      <td>0.0</td>\n",
       "      <td>1.000</td>\n",
       "      <td>0.0</td>\n",
       "      <td>0.0</td>\n",
       "    </tr>\n",
       "    <tr>\n",
       "      <th>77944</th>\n",
       "      <td>@mention Oh no! We had cold weather early in t...</td>\n",
       "      <td>0.0</td>\n",
       "      <td>0.385</td>\n",
       "      <td>0.410</td>\n",
       "      <td>0.205</td>\n",
       "      <td>0.000</td>\n",
       "      <td>0.416</td>\n",
       "      <td>0.385</td>\n",
       "      <td>0.000</td>\n",
       "      <td>0.199</td>\n",
       "      <td>...</td>\n",
       "      <td>0.0</td>\n",
       "      <td>0.000</td>\n",
       "      <td>0.0</td>\n",
       "      <td>0.211</td>\n",
       "      <td>0.591</td>\n",
       "      <td>0.0</td>\n",
       "      <td>0.0</td>\n",
       "      <td>0.000</td>\n",
       "      <td>0.0</td>\n",
       "      <td>0.0</td>\n",
       "    </tr>\n",
       "    <tr>\n",
       "      <th>77945</th>\n",
       "      <td>North Cascades Hwy to reopen Wed.: quite late ...</td>\n",
       "      <td>0.0</td>\n",
       "      <td>0.202</td>\n",
       "      <td>0.395</td>\n",
       "      <td>0.000</td>\n",
       "      <td>0.403</td>\n",
       "      <td>0.000</td>\n",
       "      <td>0.000</td>\n",
       "      <td>0.662</td>\n",
       "      <td>0.338</td>\n",
       "      <td>...</td>\n",
       "      <td>0.0</td>\n",
       "      <td>0.000</td>\n",
       "      <td>0.0</td>\n",
       "      <td>0.000</td>\n",
       "      <td>0.000</td>\n",
       "      <td>1.0</td>\n",
       "      <td>0.0</td>\n",
       "      <td>0.000</td>\n",
       "      <td>0.0</td>\n",
       "      <td>0.0</td>\n",
       "    </tr>\n",
       "  </tbody>\n",
       "</table>\n",
       "<p>77946 rows × 25 columns</p>\n",
       "</div>"
      ],
      "text/plain": [
       "                                                   tweet   s1     s2     s3  \\\n",
       "0                    Jazz for a Rainy Afternoon:  {link}  0.0  0.000  1.000   \n",
       "1                       RT: @mention: I love rainy days.  0.0  0.000  0.000   \n",
       "2      Good Morning Chicago! Time to kick the Windy C...  0.0  0.000  0.000   \n",
       "3      Preach lol! :) RT @mention: #alliwantis this t...  0.0  0.000  0.000   \n",
       "4                         @mention good morning sunshine  0.0  0.000  0.000   \n",
       "...                                                  ...  ...    ...    ...   \n",
       "77941  Current Conditions: Fair, 78 FForecast: Sat - ...  0.0  0.000  1.000   \n",
       "77942  WE DOIN SOMETHING DIFFERENT... SINCE THE WEATH...  0.0  0.000  0.000   \n",
       "77943  OMG #WeatherForecast for tomm 80 degrees & Sun...  0.0  0.000  0.000   \n",
       "77944  @mention Oh no! We had cold weather early in t...  0.0  0.385  0.410   \n",
       "77945  North Cascades Hwy to reopen Wed.: quite late ...  0.0  0.202  0.395   \n",
       "\n",
       "          s4     s5     w1     w2     w3     w4  ...   k6     k7   k8     k9  \\\n",
       "0      0.000  0.000  0.800  0.000  0.200  0.000  ...  0.0  0.000  0.0  0.000   \n",
       "1      1.000  0.000  0.196  0.000  0.804  0.000  ...  0.0  0.000  0.0  0.000   \n",
       "2      0.000  1.000  0.000  0.000  1.000  0.000  ...  0.0  1.000  0.0  0.000   \n",
       "3      1.000  0.000  1.000  0.000  0.000  0.000  ...  0.0  0.604  0.0  0.196   \n",
       "4      0.403  0.597  1.000  0.000  0.000  0.000  ...  0.0  0.000  0.0  0.000   \n",
       "...      ...    ...    ...    ...    ...    ...  ...  ...    ...  ...    ...   \n",
       "77941  0.000  0.000  0.206  0.794  0.000  0.000  ...  0.0  0.000  0.0  0.000   \n",
       "77942  1.000  0.000  1.000  0.000  0.000  0.000  ...  0.0  1.000  0.0  0.000   \n",
       "77943  1.000  0.000  0.000  1.000  0.000  0.000  ...  0.0  0.000  0.0  0.000   \n",
       "77944  0.205  0.000  0.416  0.385  0.000  0.199  ...  0.0  0.000  0.0  0.211   \n",
       "77945  0.000  0.403  0.000  0.000  0.662  0.338  ...  0.0  0.000  0.0  0.000   \n",
       "\n",
       "         k10  k11  k12    k13  k14  k15  \n",
       "0      1.000  0.0  0.0  0.000  0.0  0.0  \n",
       "1      1.000  0.0  0.0  0.000  0.0  0.0  \n",
       "2      0.000  0.0  0.0  0.000  0.0  0.0  \n",
       "3      0.000  0.0  0.0  0.201  0.0  0.0  \n",
       "4      0.000  0.0  0.0  1.000  0.0  0.0  \n",
       "...      ...  ...  ...    ...  ...  ...  \n",
       "77941  0.000  0.0  0.0  0.794  0.0  0.0  \n",
       "77942  0.000  0.0  0.0  0.000  0.0  0.0  \n",
       "77943  0.000  0.0  0.0  1.000  0.0  0.0  \n",
       "77944  0.591  0.0  0.0  0.000  0.0  0.0  \n",
       "77945  0.000  1.0  0.0  0.000  0.0  0.0  \n",
       "\n",
       "[77946 rows x 25 columns]"
      ]
     },
     "execution_count": 13,
     "metadata": {},
     "output_type": "execute_result"
    }
   ],
   "source": [
    "df"
   ]
  },
  {
   "cell_type": "markdown",
   "id": "5429be97",
   "metadata": {},
   "source": [
    "# Train and Test splitting"
   ]
  },
  {
   "cell_type": "code",
   "execution_count": 14,
   "id": "c15fae21",
   "metadata": {},
   "outputs": [],
   "source": [
    "def _load_and_shuffle_data(data,\n",
    "                           seed,\n",
    "                           ):\n",
    "    \"\"\"Loads and shuffles the dataset using pandas.\n",
    "    # Arguments\n",
    "        data: dataframe.\n",
    "        seed: int, seed for randomizer. \n",
    "    \"\"\"\n",
    "    np.random.seed(seed)\n",
    "    data=data\n",
    "    return data.reindex(np.random.permutation(data.index))\n",
    "\n",
    "\n",
    "def _split_training_and_validation_sets(texts,labels_s,labels_w,labels_k, validation_split):\n",
    "    \"\"\"Splits the texts and labels into training and validation sets.\n",
    "    # Arguments\n",
    "        texts: dataframe, text data.\n",
    "        labels: dataframe, label data.\n",
    "        validation_split: float, percentage of data to use for validation.\n",
    "    # Returns\n",
    "        A dataframe of training and validation data.\n",
    "    \"\"\"\n",
    "    num_training_samples = int((1 - validation_split) * (texts.shape[0]))\n",
    "    return ((texts.iloc[:num_training_samples],labels_s.iloc[:num_training_samples],labels_w.iloc[:num_training_samples],labels_k.iloc[:num_training_samples]),\n",
    "            (texts.iloc[num_training_samples:],labels_s.iloc[num_training_samples:], labels_w.iloc[num_training_samples:], labels_k.iloc[num_training_samples:]))\n",
    "    \n",
    "def load_tweet_weather_topic_classification_dataset(data,\n",
    "                                                    validation_split=0.2,\n",
    "                                                    seed=123):\n",
    "   '''gives train and test datasets for each label(sentiment,when,kind)\n",
    "    # Arguments\n",
    "        data: dataframe. \n",
    "        validation_split: float, percentage of data to use for validation.\n",
    "        seed: int, seed for randomizer.\n",
    "   \n",
    "   '''\n",
    "    \n",
    "    data = _load_and_shuffle_data(data,seed)\n",
    "\n",
    "    # Get tweet text and the labels seperated\n",
    "    texts = data['tweet']\n",
    "    \n",
    "    # labels for 'sentiment'\n",
    "    labels_s=data.loc[:,'s1':'s5']\n",
    "    \n",
    "    # labels for 'when'\n",
    "    labels_w=data.loc[:,'w1':'w4']\n",
    "    \n",
    "    # labels for 'kind'\n",
    "    labels_k=data.loc[:,'k1':'k15']\n",
    "\n",
    "    return _split_training_and_validation_sets(\n",
    "        texts, labels_s,labels_w,labels_k ,validation_split)"
   ]
  },
  {
   "cell_type": "code",
   "execution_count": 15,
   "id": "752dd154",
   "metadata": {},
   "outputs": [],
   "source": [
    "(train_data,train_labels_s,train_labels_w,train_labels_k),(test_data,test_labels_s,test_labels_w,test_labels_k)=load_tweet_weather_topic_classification_dataset(df,\n",
    "                                                    validation_split=0.2,\n",
    "                                                    seed=123)"
   ]
  },
  {
   "cell_type": "code",
   "execution_count": 16,
   "id": "c36bdf2e",
   "metadata": {},
   "outputs": [
    {
     "data": {
      "text/plain": [
       "pandas.core.series.Series"
      ]
     },
     "execution_count": 16,
     "metadata": {},
     "output_type": "execute_result"
    }
   ],
   "source": [
    "type(train_data)"
   ]
  },
  {
   "cell_type": "code",
   "execution_count": 17,
   "id": "ec005db3",
   "metadata": {},
   "outputs": [
    {
     "data": {
      "text/plain": [
       "(62356,)"
      ]
     },
     "execution_count": 17,
     "metadata": {},
     "output_type": "execute_result"
    }
   ],
   "source": [
    "train_data.shape"
   ]
  },
  {
   "cell_type": "code",
   "execution_count": 18,
   "id": "5b288cb4",
   "metadata": {},
   "outputs": [
    {
     "data": {
      "text/plain": [
       "(62356, 5)"
      ]
     },
     "execution_count": 18,
     "metadata": {},
     "output_type": "execute_result"
    }
   ],
   "source": [
    "train_labels_s.shape"
   ]
  },
  {
   "cell_type": "code",
   "execution_count": 19,
   "id": "ed986380",
   "metadata": {},
   "outputs": [
    {
     "data": {
      "text/plain": [
       "(62356, 4)"
      ]
     },
     "execution_count": 19,
     "metadata": {},
     "output_type": "execute_result"
    }
   ],
   "source": [
    "train_labels_w.shape"
   ]
  },
  {
   "cell_type": "code",
   "execution_count": 20,
   "id": "cd265640",
   "metadata": {},
   "outputs": [
    {
     "data": {
      "text/plain": [
       "(62356, 15)"
      ]
     },
     "execution_count": 20,
     "metadata": {},
     "output_type": "execute_result"
    }
   ],
   "source": [
    "train_labels_k.shape"
   ]
  },
  {
   "cell_type": "code",
   "execution_count": 21,
   "id": "f160a993",
   "metadata": {},
   "outputs": [
    {
     "data": {
      "text/plain": [
       "(15590,)"
      ]
     },
     "execution_count": 21,
     "metadata": {},
     "output_type": "execute_result"
    }
   ],
   "source": [
    "test_data.shape"
   ]
  },
  {
   "cell_type": "code",
   "execution_count": 22,
   "id": "14ad151e",
   "metadata": {},
   "outputs": [
    {
     "data": {
      "text/plain": [
       "(15590, 5)"
      ]
     },
     "execution_count": 22,
     "metadata": {},
     "output_type": "execute_result"
    }
   ],
   "source": [
    "test_labels_s.shape"
   ]
  },
  {
   "cell_type": "code",
   "execution_count": 23,
   "id": "e47c2a5a",
   "metadata": {},
   "outputs": [
    {
     "data": {
      "text/html": [
       "<div>\n",
       "<style scoped>\n",
       "    .dataframe tbody tr th:only-of-type {\n",
       "        vertical-align: middle;\n",
       "    }\n",
       "\n",
       "    .dataframe tbody tr th {\n",
       "        vertical-align: top;\n",
       "    }\n",
       "\n",
       "    .dataframe thead th {\n",
       "        text-align: right;\n",
       "    }\n",
       "</style>\n",
       "<table border=\"1\" class=\"dataframe\">\n",
       "  <thead>\n",
       "    <tr style=\"text-align: right;\">\n",
       "      <th></th>\n",
       "      <th>s1</th>\n",
       "      <th>s2</th>\n",
       "      <th>s3</th>\n",
       "      <th>s4</th>\n",
       "      <th>s5</th>\n",
       "    </tr>\n",
       "  </thead>\n",
       "  <tbody>\n",
       "    <tr>\n",
       "      <th>23191</th>\n",
       "      <td>0.0</td>\n",
       "      <td>0.000</td>\n",
       "      <td>1.000</td>\n",
       "      <td>0.000</td>\n",
       "      <td>0.000</td>\n",
       "    </tr>\n",
       "    <tr>\n",
       "      <th>31776</th>\n",
       "      <td>0.0</td>\n",
       "      <td>0.000</td>\n",
       "      <td>0.000</td>\n",
       "      <td>1.000</td>\n",
       "      <td>0.000</td>\n",
       "    </tr>\n",
       "    <tr>\n",
       "      <th>12920</th>\n",
       "      <td>0.0</td>\n",
       "      <td>0.183</td>\n",
       "      <td>0.000</td>\n",
       "      <td>0.000</td>\n",
       "      <td>0.817</td>\n",
       "    </tr>\n",
       "    <tr>\n",
       "      <th>13478</th>\n",
       "      <td>0.0</td>\n",
       "      <td>0.000</td>\n",
       "      <td>0.207</td>\n",
       "      <td>0.000</td>\n",
       "      <td>0.793</td>\n",
       "    </tr>\n",
       "    <tr>\n",
       "      <th>8823</th>\n",
       "      <td>0.0</td>\n",
       "      <td>0.000</td>\n",
       "      <td>1.000</td>\n",
       "      <td>0.000</td>\n",
       "      <td>0.000</td>\n",
       "    </tr>\n",
       "    <tr>\n",
       "      <th>...</th>\n",
       "      <td>...</td>\n",
       "      <td>...</td>\n",
       "      <td>...</td>\n",
       "      <td>...</td>\n",
       "      <td>...</td>\n",
       "    </tr>\n",
       "    <tr>\n",
       "      <th>49062</th>\n",
       "      <td>0.0</td>\n",
       "      <td>1.000</td>\n",
       "      <td>0.000</td>\n",
       "      <td>0.000</td>\n",
       "      <td>0.000</td>\n",
       "    </tr>\n",
       "    <tr>\n",
       "      <th>71629</th>\n",
       "      <td>0.0</td>\n",
       "      <td>0.200</td>\n",
       "      <td>0.597</td>\n",
       "      <td>0.204</td>\n",
       "      <td>0.000</td>\n",
       "    </tr>\n",
       "    <tr>\n",
       "      <th>5457</th>\n",
       "      <td>0.0</td>\n",
       "      <td>0.000</td>\n",
       "      <td>1.000</td>\n",
       "      <td>0.000</td>\n",
       "      <td>0.000</td>\n",
       "    </tr>\n",
       "    <tr>\n",
       "      <th>62777</th>\n",
       "      <td>0.0</td>\n",
       "      <td>0.000</td>\n",
       "      <td>0.000</td>\n",
       "      <td>1.000</td>\n",
       "      <td>0.000</td>\n",
       "    </tr>\n",
       "    <tr>\n",
       "      <th>24634</th>\n",
       "      <td>0.0</td>\n",
       "      <td>0.211</td>\n",
       "      <td>0.421</td>\n",
       "      <td>0.000</td>\n",
       "      <td>0.368</td>\n",
       "    </tr>\n",
       "  </tbody>\n",
       "</table>\n",
       "<p>62356 rows × 5 columns</p>\n",
       "</div>"
      ],
      "text/plain": [
       "        s1     s2     s3     s4     s5\n",
       "23191  0.0  0.000  1.000  0.000  0.000\n",
       "31776  0.0  0.000  0.000  1.000  0.000\n",
       "12920  0.0  0.183  0.000  0.000  0.817\n",
       "13478  0.0  0.000  0.207  0.000  0.793\n",
       "8823   0.0  0.000  1.000  0.000  0.000\n",
       "...    ...    ...    ...    ...    ...\n",
       "49062  0.0  1.000  0.000  0.000  0.000\n",
       "71629  0.0  0.200  0.597  0.204  0.000\n",
       "5457   0.0  0.000  1.000  0.000  0.000\n",
       "62777  0.0  0.000  0.000  1.000  0.000\n",
       "24634  0.0  0.211  0.421  0.000  0.368\n",
       "\n",
       "[62356 rows x 5 columns]"
      ]
     },
     "execution_count": 23,
     "metadata": {},
     "output_type": "execute_result"
    }
   ],
   "source": [
    "train_labels_s"
   ]
  },
  {
   "cell_type": "markdown",
   "id": "b46b0c5e",
   "metadata": {},
   "source": [
    "# Tokenization and Vectorization"
   ]
  },
  {
   "cell_type": "code",
   "execution_count": 24,
   "id": "554b61db",
   "metadata": {},
   "outputs": [],
   "source": [
    "from sklearn.feature_extraction.text import TfidfVectorizer\n",
    "from sklearn.feature_selection import SelectKBest\n",
    "from sklearn.feature_selection import f_classif"
   ]
  },
  {
   "cell_type": "code",
   "execution_count": 25,
   "id": "48f83c20",
   "metadata": {},
   "outputs": [],
   "source": [
    "#i am mouse - i, am, mouse, i am, am mouse\n",
    "\n",
    "vectorizer = TfidfVectorizer(dtype='float32',\n",
    "                             max_features=2000,\n",
    "                             ngram_range=(1,3),\n",
    "                             strip_accents='unicode',\n",
    "                             decode_error='replace', \n",
    "                             analyzer='word',\n",
    "                             min_df=2)"
   ]
  },
  {
   "cell_type": "code",
   "execution_count": 26,
   "id": "21a5d730",
   "metadata": {},
   "outputs": [
    {
     "name": "stderr",
     "output_type": "stream",
     "text": [
      "C:\\Users\\Ashit\\anaconda3\\lib\\site-packages\\sklearn\\feature_extraction\\text.py:2029: UserWarning: Only (<class 'numpy.float64'>, <class 'numpy.float32'>, <class 'numpy.float16'>) 'dtype' should be used. float32 'dtype' will be converted to np.float64.\n",
      "  warnings.warn(\n"
     ]
    }
   ],
   "source": [
    "x_train = vectorizer.fit_transform(train_data)"
   ]
  },
  {
   "cell_type": "code",
   "execution_count": 27,
   "id": "9e985371",
   "metadata": {},
   "outputs": [],
   "source": [
    "x_test = vectorizer.transform(test_data)"
   ]
  },
  {
   "cell_type": "code",
   "execution_count": 31,
   "id": "44f48f35",
   "metadata": {},
   "outputs": [],
   "source": [
    "x_train =x_train.toarray()\n"
   ]
  },
  {
   "cell_type": "code",
   "execution_count": 32,
   "id": "b645bf28",
   "metadata": {},
   "outputs": [],
   "source": [
    "x_test =x_test.toarray()"
   ]
  },
  {
   "cell_type": "code",
   "execution_count": 33,
   "id": "9bf00ff2",
   "metadata": {},
   "outputs": [
    {
     "data": {
      "text/plain": [
       "(62356, 2000)"
      ]
     },
     "execution_count": 33,
     "metadata": {},
     "output_type": "execute_result"
    }
   ],
   "source": [
    "x_train.shape"
   ]
  },
  {
   "cell_type": "code",
   "execution_count": 34,
   "id": "42fbea14",
   "metadata": {},
   "outputs": [
    {
     "data": {
      "text/plain": [
       "(15590, 2000)"
      ]
     },
     "execution_count": 34,
     "metadata": {},
     "output_type": "execute_result"
    }
   ],
   "source": [
    "x_test.shape"
   ]
  },
  {
   "cell_type": "code",
   "execution_count": 37,
   "id": "44892bfb",
   "metadata": {},
   "outputs": [],
   "source": [
    "# Converting y from dataframe to numpy array\n",
    "y_train_s=np.array(train_labels_s)\n",
    "y_train_w=np.array(train_labels_w)\n",
    "y_train_k=np.array(train_labels_k)"
   ]
  },
  {
   "cell_type": "code",
   "execution_count": 38,
   "id": "87344d65",
   "metadata": {},
   "outputs": [],
   "source": [
    "y_test_s=np.array(test_labels_s)\n",
    "y_test_w=np.array(test_labels_w)\n",
    "y_test_k=np.array(test_labels_k)"
   ]
  },
  {
   "cell_type": "code",
   "execution_count": 39,
   "id": "6f028cf7",
   "metadata": {},
   "outputs": [
    {
     "data": {
      "text/plain": [
       "(62356, 5)"
      ]
     },
     "execution_count": 39,
     "metadata": {},
     "output_type": "execute_result"
    }
   ],
   "source": [
    "y_train_s.shape\n"
   ]
  },
  {
   "cell_type": "code",
   "execution_count": 40,
   "id": "6729fe44",
   "metadata": {},
   "outputs": [
    {
     "data": {
      "text/plain": [
       "(62356, 4)"
      ]
     },
     "execution_count": 40,
     "metadata": {},
     "output_type": "execute_result"
    }
   ],
   "source": [
    "y_train_w.shape\n"
   ]
  },
  {
   "cell_type": "code",
   "execution_count": 41,
   "id": "2512f172",
   "metadata": {},
   "outputs": [
    {
     "data": {
      "text/plain": [
       "(62356, 15)"
      ]
     },
     "execution_count": 41,
     "metadata": {},
     "output_type": "execute_result"
    }
   ],
   "source": [
    "y_train_k.shape"
   ]
  },
  {
   "cell_type": "markdown",
   "id": "6feb5795",
   "metadata": {},
   "source": [
    "# ANN(Artificial Neural Network) Model"
   ]
  },
  {
   "cell_type": "markdown",
   "id": "90cb9cbb",
   "metadata": {},
   "source": [
    "## sentiment_ANN"
   ]
  },
  {
   "cell_type": "code",
   "execution_count": 42,
   "id": "686f369b",
   "metadata": {},
   "outputs": [],
   "source": [
    "#Import libraries or packages in python\n",
    "\n",
    "#After keras and tensorflow are installed in system and restarted.\n",
    "\n",
    "from keras.models import Sequential\n",
    "\n",
    "#Flatten - 2d (width, height)\n",
    "from keras.layers import Dense, Flatten, Dropout\n",
    "\n",
    "\n",
    "\n",
    "# Model creation - first attempt\n",
    "\n",
    "#Note: each text has 2000 features\n",
    "\n",
    "sentiment_ANN = Sequential()\n",
    "\n",
    "\n"
   ]
  },
  {
   "cell_type": "code",
   "execution_count": 43,
   "id": "c52f6e8f",
   "metadata": {},
   "outputs": [],
   "source": [
    "sentiment_ANN.add(Flatten())\n",
    "# adding layers and units to ANN model\n",
    "sentiment_ANN.add(Dense(units=512, activation='relu'))\n",
    "#Add dropout regularization - a percentage of units should be set to 0. Eg: 0.25 - so 25% of units will\n",
    "#be set to 0\n",
    "sentiment_ANN.add(Dropout(rate=0.35))\n",
    "# hidden layer\n",
    "sentiment_ANN.add(Dense(units=256, activation='relu'))\n",
    "sentiment_ANN.add(Dropout(rate=0.35))\n",
    "#output layer\n",
    "sentiment_ANN.add(Dense(units=5, activation='softmax'))\n",
    "\n",
    "\n",
    "\n"
   ]
  },
  {
   "cell_type": "code",
   "execution_count": 44,
   "id": "697f1386",
   "metadata": {},
   "outputs": [],
   "source": [
    "# compilation\n",
    "sentiment_ANN.compile(loss='categorical_crossentropy', optimizer='adam', metrics=['accuracy'])"
   ]
  },
  {
   "cell_type": "code",
   "execution_count": 45,
   "id": "b6f21948",
   "metadata": {},
   "outputs": [],
   "source": [
    "from keras.callbacks import ModelCheckpoint, EarlyStopping, ReduceLROnPlateau\n",
    "\n",
    "#Save the best model (W, b) by comparing accuracy/loss on validation set\n",
    "filename = 'bestmodel_sentiment_trial1.h5'\n",
    "checkpoint = ModelCheckpoint(filename, monitor='val_accuracy', verbose=1, save_best_only=True, save_weights_only=False, mode='auto')\n",
    "\n",
    "#if monitored value doesnt improve for #patience epochs, then stop training\n",
    "es = EarlyStopping(monitor='val_loss', patience=10)\n",
    "\n",
    "#if monitored value doesnt improve for #patience epochs, LR(new) = LR(old)*factor\n",
    "rd = ReduceLROnPlateau(monitor='val_loss', factor=0.1, patience=5)\n",
    "\n",
    "\n",
    "\n"
   ]
  },
  {
   "cell_type": "code",
   "execution_count": 46,
   "id": "edd78148",
   "metadata": {},
   "outputs": [
    {
     "name": "stdout",
     "output_type": "stream",
     "text": [
      "Epoch 1/5\n",
      "1558/1559 [============================>.] - ETA: 0s - loss: 1.0652 - accuracy: 0.6388\n",
      "Epoch 1: val_accuracy improved from -inf to 0.67134, saving model to bestmodel_sentiment_trial1.h5\n",
      "1559/1559 [==============================] - 81s 48ms/step - loss: 1.0651 - accuracy: 0.6388 - val_loss: 1.0020 - val_accuracy: 0.6713 - lr: 0.0010\n",
      "Epoch 2/5\n",
      "1558/1559 [============================>.] - ETA: 0s - loss: 0.9740 - accuracy: 0.6963\n",
      "Epoch 2: val_accuracy improved from 0.67134 to 0.67383, saving model to bestmodel_sentiment_trial1.h5\n",
      "1559/1559 [==============================] - 75s 48ms/step - loss: 0.9739 - accuracy: 0.6964 - val_loss: 0.9999 - val_accuracy: 0.6738 - lr: 0.0010\n",
      "Epoch 3/5\n",
      "1558/1559 [============================>.] - ETA: 0s - loss: 0.9190 - accuracy: 0.7313\n",
      "Epoch 3: val_accuracy improved from 0.67383 to 0.67832, saving model to bestmodel_sentiment_trial1.h5\n",
      "1559/1559 [==============================] - 76s 49ms/step - loss: 0.9191 - accuracy: 0.7313 - val_loss: 0.9978 - val_accuracy: 0.6783 - lr: 0.0010\n",
      "Epoch 4/5\n",
      "1559/1559 [==============================] - ETA: 0s - loss: 0.8546 - accuracy: 0.7726\n",
      "Epoch 4: val_accuracy did not improve from 0.67832\n",
      "1559/1559 [==============================] - 78s 50ms/step - loss: 0.8546 - accuracy: 0.7726 - val_loss: 1.0106 - val_accuracy: 0.6741 - lr: 0.0010\n",
      "Epoch 5/5\n",
      "1558/1559 [============================>.] - ETA: 0s - loss: 0.8011 - accuracy: 0.8066\n",
      "Epoch 5: val_accuracy did not improve from 0.67832\n",
      "1559/1559 [==============================] - 77s 49ms/step - loss: 0.8011 - accuracy: 0.8066 - val_loss: 1.0354 - val_accuracy: 0.6767 - lr: 0.0010\n"
     ]
    }
   ],
   "source": [
    "#Training model with x_train\n",
    "history =sentiment_ANN.fit(x_train, y_train_s, epochs=5, validation_split=0.2, callbacks=[checkpoint, es, rd])\n"
   ]
  },
  {
   "cell_type": "code",
   "execution_count": 47,
   "id": "9d6dcc29",
   "metadata": {},
   "outputs": [
    {
     "name": "stdout",
     "output_type": "stream",
     "text": [
      "Model: \"sequential\"\n",
      "_________________________________________________________________\n",
      " Layer (type)                Output Shape              Param #   \n",
      "=================================================================\n",
      " flatten (Flatten)           (None, 2000)              0         \n",
      "                                                                 \n",
      " dense (Dense)               (None, 512)               1024512   \n",
      "                                                                 \n",
      " dropout (Dropout)           (None, 512)               0         \n",
      "                                                                 \n",
      " dense_1 (Dense)             (None, 256)               131328    \n",
      "                                                                 \n",
      " dropout_1 (Dropout)         (None, 256)               0         \n",
      "                                                                 \n",
      " dense_2 (Dense)             (None, 5)                 1285      \n",
      "                                                                 \n",
      "=================================================================\n",
      "Total params: 1,157,125\n",
      "Trainable params: 1,157,125\n",
      "Non-trainable params: 0\n",
      "_________________________________________________________________\n"
     ]
    }
   ],
   "source": [
    "# sentiment_ANN Architecture\n",
    "sentiment_ANN.summary()"
   ]
  },
  {
   "cell_type": "code",
   "execution_count": 48,
   "id": "75885b37",
   "metadata": {},
   "outputs": [
    {
     "data": {
      "image/png": "[encoded data removed]",
      "text/plain": [
       "<Figure size 640x480 with 1 Axes>"
      ]
     },
     "metadata": {},
     "output_type": "display_data"
    }
   ],
   "source": [
    "#plot accuracy with epochs \n",
    "\n",
    "#training accuracy\n",
    "plt.plot(history.history['accuracy'])\n",
    "#validation accuracy\n",
    "plt.plot(history.history['val_accuracy'])\n",
    "plt.xlabel('epochs')\n",
    "plt.ylabel('accuracy')\n",
    "# add legends\n",
    "plt.legend(['train','validation'])\n",
    "# title of plot\n",
    "plt.title('acuuracy with eopch')\n",
    "plt.show()\n"
   ]
  },
  {
   "cell_type": "code",
   "execution_count": 86,
   "id": "ee9528cb",
   "metadata": {},
   "outputs": [
    {
     "data": {
      "image/png": "[encoded data removed]",
      "text/plain": [
       "<Figure size 640x480 with 1 Axes>"
      ]
     },
     "metadata": {},
     "output_type": "display_data"
    }
   ],
   "source": [
    "#plot loss\n",
    "import matplotlib.pyplot as plt\n",
    "#training loss\n",
    "plt.plot(history.history['loss'])\n",
    "#validation loss\n",
    "plt.plot(history.history['val_loss'])\n",
    "plt.xlabel('epochs')\n",
    "plt.ylabel('loss')\n",
    "# add legends\n",
    "plt.legend(['train','validation'])\n",
    "# title of plot\n",
    "plt.title('loss with epoch')\n",
    "\n",
    "plt.show()"
   ]
  },
  {
   "cell_type": "code",
   "execution_count": 50,
   "id": "e50f12c1",
   "metadata": {},
   "outputs": [],
   "source": [
    "#loading best model based on val_accuracy\n",
    "\n",
    "from keras import models\n",
    "\n",
    "finalmodel_sentiment = models.load_model('bestmodel_sentiment_trial1.h5')\n",
    "\n",
    "#evaluate on test set\n",
    "\n"
   ]
  },
  {
   "cell_type": "code",
   "execution_count": 51,
   "id": "77f6e8fe",
   "metadata": {},
   "outputs": [],
   "source": [
    "# prediction from model\n",
    "ypred_sentiment=finalmodel_sentiment(x_test)"
   ]
  },
  {
   "cell_type": "code",
   "execution_count": 52,
   "id": "94db63f6",
   "metadata": {},
   "outputs": [
    {
     "data": {
      "text/plain": [
       "<tf.Tensor: shape=(15590, 5), dtype=float32, numpy=\n",
       "array([[8.29235539e-02, 7.26011217e-01, 9.26589146e-02, 8.06319565e-02,\n",
       "        1.77743658e-02],\n",
       "       [3.61682475e-02, 7.64998674e-01, 6.44676536e-02, 1.08304648e-02,\n",
       "        1.23534925e-01],\n",
       "       [4.02719527e-02, 1.01481073e-01, 4.18436587e-01, 8.68028495e-03,\n",
       "        4.31130052e-01],\n",
       "       ...,\n",
       "       [1.45008698e-01, 2.04569012e-01, 3.37488204e-01, 3.06394100e-01,\n",
       "        6.53998042e-03],\n",
       "       [1.33801606e-02, 1.03071742e-02, 6.59892559e-01, 5.89872943e-04,\n",
       "        3.15830171e-01],\n",
       "       [2.16587484e-02, 2.93251216e-01, 4.98293042e-01, 1.69801991e-03,\n",
       "        1.85098976e-01]], dtype=float32)>"
      ]
     },
     "execution_count": 52,
     "metadata": {},
     "output_type": "execute_result"
    }
   ],
   "source": [
    "ypred_sentiment"
   ]
  },
  {
   "cell_type": "code",
   "execution_count": 53,
   "id": "576931d9",
   "metadata": {},
   "outputs": [],
   "source": [
    "# actual ypred\n",
    "y_actual_sentiment=np.argmax(ypred_sentiment,axis=1)"
   ]
  },
  {
   "cell_type": "code",
   "execution_count": 54,
   "id": "85e0fb7b",
   "metadata": {},
   "outputs": [
    {
     "data": {
      "text/plain": [
       "array([1, 1, 4, ..., 2, 2, 2], dtype=int64)"
      ]
     },
     "execution_count": 54,
     "metadata": {},
     "output_type": "execute_result"
    }
   ],
   "source": [
    "#prediction of \n",
    "y_actual_sentiment"
   ]
  },
  {
   "cell_type": "code",
   "execution_count": 55,
   "id": "40d75ae4",
   "metadata": {},
   "outputs": [
    {
     "data": {
      "text/plain": [
       "array([1, 2, 3, 4], dtype=int64)"
      ]
     },
     "execution_count": 55,
     "metadata": {},
     "output_type": "execute_result"
    }
   ],
   "source": [
    "np.unique(y_actual_sentiment)"
   ]
  },
  {
   "cell_type": "code",
   "execution_count": 56,
   "id": "77342a60",
   "metadata": {},
   "outputs": [
    {
     "data": {
      "text/plain": [
       "numpy.ndarray"
      ]
     },
     "execution_count": 56,
     "metadata": {},
     "output_type": "execute_result"
    }
   ],
   "source": [
    "type(y_actual_sentiment)"
   ]
  },
  {
   "cell_type": "code",
   "execution_count": 57,
   "id": "bd850ed0",
   "metadata": {},
   "outputs": [
    {
     "name": "stdout",
     "output_type": "stream",
     "text": [
      "488/488 [==============================] - 5s 8ms/step - loss: 1.0036 - accuracy: 0.6766\n"
     ]
    },
    {
     "data": {
      "text/plain": [
       "[1.0036267042160034, 0.6765875816345215]"
      ]
     },
     "execution_count": 57,
     "metadata": {},
     "output_type": "execute_result"
    }
   ],
   "source": [
    "#evaluate on test set\n",
    "finalmodel_sentiment.evaluate(x_test, y_test_s)"
   ]
  },
  {
   "cell_type": "markdown",
   "id": "f4596937",
   "metadata": {},
   "source": [
    "# when_ANN"
   ]
  },
  {
   "cell_type": "code",
   "execution_count": 58,
   "id": "160d6c2a",
   "metadata": {},
   "outputs": [],
   "source": [
    "when_ANN = Sequential()"
   ]
  },
  {
   "cell_type": "code",
   "execution_count": 59,
   "id": "e944dbf4",
   "metadata": {},
   "outputs": [],
   "source": [
    "when_ANN.add(Flatten())\n",
    "# adding layers and units to ANN model\n",
    "when_ANN.add(Dense(units=512, activation='relu'))\n",
    "#Add dropout regularization - a percentage of units should be set to 0. Eg: 0.25 - so 25% of units will\n",
    "#be set to 0\n",
    "when_ANN.add(Dropout(rate=0.35))\n",
    "# hidden layer\n",
    "when_ANN.add(Dense(units=256, activation='relu'))\n",
    "when_ANN.add(Dropout(rate=0.35))\n",
    "#output layer\n",
    "when_ANN.add(Dense(units=4, activation='softmax'))"
   ]
  },
  {
   "cell_type": "code",
   "execution_count": 60,
   "id": "e11e2106",
   "metadata": {},
   "outputs": [],
   "source": [
    "# compilation\n",
    "when_ANN.compile(loss='categorical_crossentropy', optimizer='adam', metrics=['accuracy'])"
   ]
  },
  {
   "cell_type": "code",
   "execution_count": 61,
   "id": "0f8b9278",
   "metadata": {},
   "outputs": [],
   "source": [
    "#Save the best model (W, b) by comparing accuracy/loss on validation set\n",
    "filename = 'bestmodel_when_trial1.h5'\n",
    "checkpoint = ModelCheckpoint(filename, monitor='val_accuracy', verbose=1, save_best_only=True, save_weights_only=False, mode='auto')\n"
   ]
  },
  {
   "cell_type": "code",
   "execution_count": 62,
   "id": "fbb7b024",
   "metadata": {},
   "outputs": [
    {
     "name": "stdout",
     "output_type": "stream",
     "text": [
      "Epoch 1/5\n",
      "1558/1559 [============================>.] - ETA: 0s - loss: 0.6878 - accuracy: 0.8005\n",
      "Epoch 1: val_accuracy improved from -inf to 0.80893, saving model to bestmodel_when_trial1.h5\n",
      "1559/1559 [==============================] - 81s 49ms/step - loss: 0.6878 - accuracy: 0.8005 - val_loss: 0.6546 - val_accuracy: 0.8089 - lr: 0.0010\n",
      "Epoch 2/5\n",
      "1559/1559 [==============================] - ETA: 0s - loss: 0.6256 - accuracy: 0.8208\n",
      "Epoch 2: val_accuracy improved from 0.80893 to 0.81390, saving model to bestmodel_when_trial1.h5\n",
      "1559/1559 [==============================] - 74s 47ms/step - loss: 0.6256 - accuracy: 0.8208 - val_loss: 0.6474 - val_accuracy: 0.8139 - lr: 0.0010\n",
      "Epoch 3/5\n",
      "1559/1559 [==============================] - ETA: 0s - loss: 0.5886 - accuracy: 0.8365\n",
      "Epoch 3: val_accuracy did not improve from 0.81390\n",
      "1559/1559 [==============================] - 75s 48ms/step - loss: 0.5886 - accuracy: 0.8365 - val_loss: 0.6500 - val_accuracy: 0.8133 - lr: 0.0010\n",
      "Epoch 4/5\n",
      "1558/1559 [============================>.] - ETA: 0s - loss: 0.5404 - accuracy: 0.8607\n",
      "Epoch 4: val_accuracy did not improve from 0.81390\n",
      "1559/1559 [==============================] - 75s 48ms/step - loss: 0.5404 - accuracy: 0.8607 - val_loss: 0.6682 - val_accuracy: 0.8072 - lr: 0.0010\n",
      "Epoch 5/5\n",
      "1558/1559 [============================>.] - ETA: 0s - loss: 0.4907 - accuracy: 0.8814\n",
      "Epoch 5: val_accuracy did not improve from 0.81390\n",
      "1559/1559 [==============================] - 73s 47ms/step - loss: 0.4906 - accuracy: 0.8814 - val_loss: 0.6923 - val_accuracy: 0.8018 - lr: 0.0010\n"
     ]
    }
   ],
   "source": [
    "#Training model with x_train\n",
    "history =when_ANN.fit(x_train, y_train_w, epochs=5, validation_split=0.2, callbacks=[checkpoint, es, rd])\n"
   ]
  },
  {
   "cell_type": "code",
   "execution_count": 63,
   "id": "473a3508",
   "metadata": {},
   "outputs": [
    {
     "name": "stdout",
     "output_type": "stream",
     "text": [
      "Model: \"sequential_1\"\n",
      "_________________________________________________________________\n",
      " Layer (type)                Output Shape              Param #   \n",
      "=================================================================\n",
      " flatten_1 (Flatten)         (None, 2000)              0         \n",
      "                                                                 \n",
      " dense_3 (Dense)             (None, 512)               1024512   \n",
      "                                                                 \n",
      " dropout_2 (Dropout)         (None, 512)               0         \n",
      "                                                                 \n",
      " dense_4 (Dense)             (None, 256)               131328    \n",
      "                                                                 \n",
      " dropout_3 (Dropout)         (None, 256)               0         \n",
      "                                                                 \n",
      " dense_5 (Dense)             (None, 4)                 1028      \n",
      "                                                                 \n",
      "=================================================================\n",
      "Total params: 1,156,868\n",
      "Trainable params: 1,156,868\n",
      "Non-trainable params: 0\n",
      "_________________________________________________________________\n"
     ]
    }
   ],
   "source": [
    "# sentiment_ANN Architecture\n",
    "when_ANN.summary()"
   ]
  },
  {
   "cell_type": "code",
   "execution_count": 64,
   "id": "5ab9f517",
   "metadata": {},
   "outputs": [
    {
     "data": {
      "image/png": "[encoded data removed]",
      "text/plain": [
       "<Figure size 640x480 with 1 Axes>"
      ]
     },
     "metadata": {},
     "output_type": "display_data"
    }
   ],
   "source": [
    "#plot accuracy with epochs \n",
    "\n",
    "#training accuracy\n",
    "plt.plot(history.history['accuracy'])\n",
    "#validation accuracy\n",
    "plt.plot(history.history['val_accuracy'])\n",
    "plt.xlabel('epochs')\n",
    "plt.ylabel('accuracy')\n",
    "# add legends\n",
    "plt.legend(['train','validation'])\n",
    "# title of plot\n",
    "plt.title('acuuracy with eopch')\n",
    "plt.show()\n",
    "\n"
   ]
  },
  {
   "cell_type": "code",
   "execution_count": 65,
   "id": "d4686e92",
   "metadata": {},
   "outputs": [
    {
     "data": {
      "image/png": "[encoded data removed]",
      "text/plain": [
       "<Figure size 640x480 with 1 Axes>"
      ]
     },
     "metadata": {},
     "output_type": "display_data"
    }
   ],
   "source": [
    "#plot loss\n",
    "#training loss\n",
    "plt.plot(history.history['loss'])\n",
    "#validation loss\n",
    "plt.plot(history.history['val_loss'])\n",
    "plt.xlabel('epochs')\n",
    "plt.ylabel('loss')\n",
    "# add legends\n",
    "plt.legend(['train','validation'])\n",
    "# title of plot\n",
    "plt.title('loss with epoch')\n",
    "\n",
    "plt.show()"
   ]
  },
  {
   "cell_type": "code",
   "execution_count": 66,
   "id": "0fc914a7",
   "metadata": {},
   "outputs": [],
   "source": [
    "finalmodel_when = models.load_model('bestmodel_when_trial1.h5')\n"
   ]
  },
  {
   "cell_type": "code",
   "execution_count": 67,
   "id": "444bf2fa",
   "metadata": {},
   "outputs": [],
   "source": [
    "# prediction from model\n",
    "ypred_when=finalmodel_when(x_test)"
   ]
  },
  {
   "cell_type": "code",
   "execution_count": 68,
   "id": "7bb3f56c",
   "metadata": {},
   "outputs": [
    {
     "name": "stdout",
     "output_type": "stream",
     "text": [
      "488/488 [==============================] - 4s 7ms/step - loss: 0.6498 - accuracy: 0.8096\n"
     ]
    },
    {
     "data": {
      "text/plain": [
       "[0.6498381495475769, 0.8095574378967285]"
      ]
     },
     "execution_count": 68,
     "metadata": {},
     "output_type": "execute_result"
    }
   ],
   "source": [
    "#loss:  - accuracy: \n",
    "finalmodel_when.evaluate(x_test, y_test_w)"
   ]
  },
  {
   "cell_type": "code",
   "execution_count": null,
   "id": "8f707167",
   "metadata": {},
   "outputs": [],
   "source": []
  },
  {
   "cell_type": "markdown",
   "id": "f16dcd44",
   "metadata": {},
   "source": [
    "# weather_ANN"
   ]
  },
  {
   "cell_type": "code",
   "execution_count": 69,
   "id": "f09d2903",
   "metadata": {},
   "outputs": [],
   "source": [
    "weather_ANN = Sequential()"
   ]
  },
  {
   "cell_type": "code",
   "execution_count": 70,
   "id": "45b9e869",
   "metadata": {},
   "outputs": [],
   "source": [
    "weather_ANN.add(Flatten())\n",
    "# adding layers and units to ANN model\n",
    "\n",
    "#Add dropout regularization - a percentage of units should be set to 0. Eg: 0.25 - so 25% of units will\n",
    "#be set to 0\n",
    "\n",
    "weather_ANN.add(Dense(units=1024, activation='relu'))\n",
    "#weather_ANN.add(Dropout(rate=0.35))\n",
    "\n",
    "# hidden layer\n",
    "#weather_ANN.add(Dropout(rate=0.35))\n",
    "\n",
    "#output layer\n",
    "weather_ANN.add(Dense(units=15, activation='softmax'))"
   ]
  },
  {
   "cell_type": "code",
   "execution_count": 71,
   "id": "feee0eeb",
   "metadata": {},
   "outputs": [],
   "source": [
    "# compilation\n",
    "weather_ANN.compile(loss='categorical_crossentropy', optimizer='adam', metrics=['accuracy'])"
   ]
  },
  {
   "cell_type": "code",
   "execution_count": 72,
   "id": "726d2042",
   "metadata": {},
   "outputs": [],
   "source": [
    "#Save the best model (W, b) by comparing accuracy/loss on validation set\n",
    "filename = 'bestmodel_weather_trial1.h5'\n",
    "checkpoint = ModelCheckpoint(filename, monitor='val_accuracy', verbose=1, save_best_only=True, save_weights_only=False, mode='auto')\n"
   ]
  },
  {
   "cell_type": "code",
   "execution_count": 73,
   "id": "f15b30de",
   "metadata": {},
   "outputs": [
    {
     "name": "stdout",
     "output_type": "stream",
     "text": [
      "Epoch 1/10\n",
      "1559/1559 [==============================] - ETA: 0s - loss: 2.9377 - accuracy: 0.7282\n",
      "Epoch 1: val_accuracy improved from -inf to 0.75016, saving model to bestmodel_weather_trial1.h5\n",
      "1559/1559 [==============================] - 129s 81ms/step - loss: 2.9377 - accuracy: 0.7282 - val_loss: 3.6735 - val_accuracy: 0.7502 - lr: 0.0010\n",
      "Epoch 2/10\n",
      "1559/1559 [==============================] - ETA: 0s - loss: 5.7616 - accuracy: 0.7067\n",
      "Epoch 2: val_accuracy improved from 0.75016 to 0.76780, saving model to bestmodel_weather_trial1.h5\n",
      "1559/1559 [==============================] - 119s 76ms/step - loss: 5.7616 - accuracy: 0.7067 - val_loss: 6.6798 - val_accuracy: 0.7678 - lr: 0.0010\n",
      "Epoch 3/10\n",
      "1559/1559 [==============================] - ETA: 0s - loss: 9.3815 - accuracy: 0.6701\n",
      "Epoch 3: val_accuracy did not improve from 0.76780\n",
      "1559/1559 [==============================] - 114s 73ms/step - loss: 9.3815 - accuracy: 0.6701 - val_loss: 8.3926 - val_accuracy: 0.6219 - lr: 0.0010\n",
      "Epoch 4/10\n",
      "1559/1559 [==============================] - ETA: 0s - loss: 9.4780 - accuracy: 0.6340\n",
      "Epoch 4: val_accuracy did not improve from 0.76780\n",
      "1559/1559 [==============================] - 113s 72ms/step - loss: 9.4780 - accuracy: 0.6340 - val_loss: 7.7314 - val_accuracy: 0.6680 - lr: 0.0010\n",
      "Epoch 5/10\n",
      "1559/1559 [==============================] - ETA: 0s - loss: 8.1166 - accuracy: 0.6175\n",
      "Epoch 5: val_accuracy did not improve from 0.76780\n",
      "1559/1559 [==============================] - 111s 71ms/step - loss: 8.1166 - accuracy: 0.6175 - val_loss: 5.2038 - val_accuracy: 0.4294 - lr: 0.0010\n",
      "Epoch 6/10\n",
      "1558/1559 [============================>.] - ETA: 0s - loss: 10.0703 - accuracy: 0.6052\n",
      "Epoch 6: val_accuracy did not improve from 0.76780\n",
      "1559/1559 [==============================] - 111s 71ms/step - loss: 10.0665 - accuracy: 0.6052 - val_loss: 7.8733 - val_accuracy: 0.7394 - lr: 0.0010\n",
      "Epoch 7/10\n",
      "1559/1559 [==============================] - ETA: 0s - loss: 5.6797 - accuracy: 0.7906\n",
      "Epoch 7: val_accuracy improved from 0.76780 to 0.78071, saving model to bestmodel_weather_trial1.h5\n",
      "1559/1559 [==============================] - 112s 72ms/step - loss: 5.6797 - accuracy: 0.7906 - val_loss: 4.8605 - val_accuracy: 0.7807 - lr: 1.0000e-04\n",
      "Epoch 8/10\n",
      "1559/1559 [==============================] - ETA: 0s - loss: 5.5910 - accuracy: 0.7809\n",
      "Epoch 8: val_accuracy did not improve from 0.78071\n",
      "1559/1559 [==============================] - 112s 72ms/step - loss: 5.5910 - accuracy: 0.7809 - val_loss: 5.2261 - val_accuracy: 0.7752 - lr: 1.0000e-04\n",
      "Epoch 9/10\n",
      "1558/1559 [============================>.] - ETA: 0s - loss: 7.1716 - accuracy: 0.7789\n",
      "Epoch 10: val_accuracy did not improve from 0.78071\n",
      "1559/1559 [==============================] - 2933s 2s/step - loss: 7.1691 - accuracy: 0.7789 - val_loss: 6.9816 - val_accuracy: 0.7530 - lr: 1.0000e-04\n"
     ]
    }
   ],
   "source": [
    "#Training model with x_train\n",
    "history =weather_ANN.fit(x_train, y_train_k, epochs=10, validation_split=0.2, callbacks=[checkpoint, es, rd])\n"
   ]
  },
  {
   "cell_type": "code",
   "execution_count": 74,
   "id": "ea7ceebc",
   "metadata": {},
   "outputs": [
    {
     "name": "stdout",
     "output_type": "stream",
     "text": [
      "Model: \"sequential_2\"\n",
      "_________________________________________________________________\n",
      " Layer (type)                Output Shape              Param #   \n",
      "=================================================================\n",
      " flatten_2 (Flatten)         (None, 2000)              0         \n",
      "                                                                 \n",
      " dense_6 (Dense)             (None, 1024)              2049024   \n",
      "                                                                 \n",
      " dense_7 (Dense)             (None, 15)                15375     \n",
      "                                                                 \n",
      "=================================================================\n",
      "Total params: 2,064,399\n",
      "Trainable params: 2,064,399\n",
      "Non-trainable params: 0\n",
      "_________________________________________________________________\n"
     ]
    }
   ],
   "source": [
    "# sentiment_ANN Architecture\n",
    "weather_ANN.summary()"
   ]
  },
  {
   "cell_type": "code",
   "execution_count": 75,
   "id": "4a567e71",
   "metadata": {},
   "outputs": [
    {
     "data": {
      "image/png": "[encoded data removed]",
      "text/plain": [
       "<Figure size 640x480 with 1 Axes>"
      ]
     },
     "metadata": {},
     "output_type": "display_data"
    }
   ],
   "source": [
    "#plot accuracy with epochs \n",
    "\n",
    "#training accuracy\n",
    "plt.plot(history.history['accuracy'])\n",
    "#validation accuracy\n",
    "plt.plot(history.history['val_accuracy'])\n",
    "plt.show()\n"
   ]
  },
  {
   "cell_type": "code",
   "execution_count": 76,
   "id": "d1068899",
   "metadata": {},
   "outputs": [
    {
     "data": {
      "image/png": "[encoded data removed]",
      "text/plain": [
       "<Figure size 640x480 with 1 Axes>"
      ]
     },
     "metadata": {},
     "output_type": "display_data"
    }
   ],
   "source": [
    "#training loss\n",
    "plt.plot(history.history['loss'])\n",
    "#validation loss\n",
    "plt.plot(history.history['val_loss'])\n",
    "plt.xlabel('epochs')\n",
    "plt.ylabel('loss')\n",
    "# add legends\n",
    "plt.legend(['train','validation'])\n",
    "# title of plot\n",
    "plt.title('loss with epoch')\n",
    "\n",
    "plt.show()"
   ]
  },
  {
   "cell_type": "code",
   "execution_count": 77,
   "id": "75375d4f",
   "metadata": {},
   "outputs": [],
   "source": [
    "finalmodel_weather = models.load_model('bestmodel_weather_trial1.h5')\n"
   ]
  },
  {
   "cell_type": "code",
   "execution_count": 78,
   "id": "ce90e7cc",
   "metadata": {},
   "outputs": [],
   "source": [
    "# prediction from model\n",
    "ypred_weather=finalmodel_weather(x_test)"
   ]
  },
  {
   "cell_type": "code",
   "execution_count": 79,
   "id": "8544d90e",
   "metadata": {},
   "outputs": [
    {
     "name": "stdout",
     "output_type": "stream",
     "text": [
      "488/488 [==============================] - 7s 12ms/step - loss: 5.4783 - accuracy: 0.7849\n"
     ]
    },
    {
     "data": {
      "text/plain": [
       "[5.478297233581543, 0.7848621010780334]"
      ]
     },
     "execution_count": 79,
     "metadata": {},
     "output_type": "execute_result"
    }
   ],
   "source": [
    "#loss:  - accuracy: \n",
    "finalmodel_weather.evaluate(x_test, y_test_k)"
   ]
  },
  {
   "cell_type": "markdown",
   "id": "81f9d2e7",
   "metadata": {},
   "source": [
    "# Conclusion:\n",
    "\n",
    "In this project,we did Exploratory Data Analysis on Dataset,split the data into train and test,did Tokeniztion and Vectorization of predictor then we created three different neural network models to predict the sentiment, when, and kind labels for tweets related to weather conditions. Each model was trained on a dataset that included the text of the tweets, their location, and a confidence score for each label.\n",
    "\n",
    "The sentiment model achieved an accuracy of 0.676587 on the test set, indicating that the model was able to correctly predict the sentiment label for approximately two-thirds of the tweets.\n",
    "\n",
    "The when model achieved an accuracy of 0.80955 on the test set, indicating that the model was able to correctly predict the when label for approximately four-fifths of the tweets.\n",
    "\n",
    "The kind/weather model achieved an accuracy of 0.7848 on the test set, indicating that the model was able to correctly predict the kind label for approximately three-fourths of the tweets.\n",
    "\n",
    "Overall, the results suggest that the models are performing reasonably well on the given task, although dataset is imbalanced there is still room for improvement. Possible next steps could involve adding data for labels which are less populated and further tuning the model hyperparameters, or trying out alternative model architectures."
   ]
  }
 ],
 "metadata": {
  "kernelspec": {
   "display_name": "Python 3 (ipykernel)",
   "language": "python",
   "name": "python3"
  },
  "language_info": {
   "codemirror_mode": {
    "name": "ipython",
    "version": 3
   },
   "file_extension": ".py",
   "mimetype": "text/x-python",
   "name": "python",
   "nbconvert_exporter": "python",
   "pygments_lexer": "ipython3",
   "version": "3.9.13"
  }
 },
 "nbformat": 4,
 "nbformat_minor": 5
}
